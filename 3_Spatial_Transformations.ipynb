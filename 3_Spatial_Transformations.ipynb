{
 "cells": [
  {
   "cell_type": "markdown",
   "metadata": {
    "slideshow": {
     "slide_type": "slide"
    }
   },
   "source": [
    "# Spatial Transformations"
   ]
  },
  {
   "cell_type": "code",
   "execution_count": null,
   "metadata": {
    "collapsed": false,
    "slideshow": {
     "slide_type": "skip"
    }
   },
   "outputs": [],
   "source": [
    "import itk\n",
    "import SimpleITK as sitk\n",
    "import numpy as np\n",
    "from matplotlib import pyplot as plt\n",
    "%matplotlib inline\n",
    "from ipywidgets import interact, fixed"
   ]
  },
  {
   "cell_type": "markdown",
   "metadata": {
    "slideshow": {
     "slide_type": "slide"
    }
   },
   "source": [
    "## Overview"
   ]
  },
  {
   "cell_type": "markdown",
   "metadata": {
    "slideshow": {
     "slide_type": "subslide"
    }
   },
   "source": [
    "Spatial transformations are a fundamental feature in ITK. The parameters of a transformation model are the solution the registration problem. The many spatial transformations and models of physical space in ITK are the architecture that underlies image sampling operations. "
   ]
  },
  {
   "cell_type": "markdown",
   "metadata": {
    "slideshow": {
     "slide_type": "subslide"
    }
   },
   "source": [
    "### *Origin*, *Spacing*, and *Direction* cosines define conversion from index to physical space for an Image"
   ]
  },
  {
   "cell_type": "code",
   "execution_count": null,
   "metadata": {
    "collapsed": false,
    "slideshow": {
     "slide_type": "fragment"
    }
   },
   "outputs": [],
   "source": [
    "fileName = 'data/qdna1.mha'\n",
    "reader = itk.ImageFileReader.New(FileName=fileName)\n",
    "reader.Update()\n",
    "image = reader.GetOutput()"
   ]
  },
  {
   "cell_type": "code",
   "execution_count": null,
   "metadata": {
    "collapsed": false,
    "slideshow": {
     "slide_type": "fragment"
    }
   },
   "outputs": [],
   "source": [
    "print('Origin', image.GetOrigin())\n",
    "print('Spacing', image.GetSpacing())\n",
    "print('Direction', image.GetDirection())\n",
    "\n",
    "index = (0, 3)\n",
    "point = image.TransformIndexToPhysicalPoint(index)\n",
    "print('\\nindex', index, 'corresponds to point', point)"
   ]
  },
  {
   "cell_type": "code",
   "execution_count": null,
   "metadata": {
    "collapsed": false,
    "slideshow": {
     "slide_type": "fragment"
    }
   },
   "outputs": [],
   "source": [
    "image.SetSpacing((3.0, 5.0))\n",
    "print('Spacing', image.GetSpacing())\n",
    "\n",
    "point = image.TransformIndexToPhysicalPoint(index)\n",
    "print('\\nindex', index, 'corresponds to point', point)"
   ]
  },
  {
   "cell_type": "markdown",
   "metadata": {
    "slideshow": {
     "slide_type": "subslide"
    }
   },
   "source": [
    "### Spatial computations are always done in physical space\n",
    "\n",
    "This is very important to **avoid errors** when performing registration.\n",
    "\n",
    "![Physical space](data/PhysicalSpace.png)"
   ]
  },
  {
   "cell_type": "markdown",
   "metadata": {
    "slideshow": {
     "slide_type": "subslide"
    }
   },
   "source": [
    "### Transformation models\n",
    "\n",
    "There are many spatial transforms of varying complexity."
   ]
  },
  {
   "cell_type": "markdown",
   "metadata": {
    "slideshow": {
     "slide_type": "subslide"
    }
   },
   "source": [
    "### Transform direction is from the resampled image to the input image\n",
    "\n",
    "![Transform Direction](data/TransformDirection.png)\n"
   ]
  },
  {
   "cell_type": "markdown",
   "metadata": {
    "slideshow": {
     "slide_type": "subslide"
    }
   },
   "source": [
    "### Transformation model parameter types\n",
    "\n",
    "Transform are defined by two sets of parameters, the **Parameters** and **FixedParameters**.  \n",
    "\n",
    "FixedParameters are not changed during the optimization process when performing registration.\n",
    "\n",
    "An example of FixedParameters is the center of rotation of a transformation modeling rigid body motion."
   ]
  },
  {
   "cell_type": "markdown",
   "metadata": {
    "slideshow": {
     "slide_type": "subslide"
    }
   },
   "source": [
    "### Composite transforms\n",
    "\n",
    "It is possible to compose multiple transform together into a single transform object.\n",
    "\n",
    "With a **composite transform**, multiple resampling operations are prevented, so interpolation errors are not accumulated.\n",
    "\n",
    "Composite transforms are useful in registration because a series of increasing complex transformations can be incrementally optimized."
   ]
  },
  {
   "cell_type": "markdown",
   "metadata": {
    "slideshow": {
     "slide_type": "slide"
    }
   },
   "source": [
    "## Tutorial"
   ]
  },
  {
   "cell_type": "markdown",
   "metadata": {
    "slideshow": {
     "slide_type": "subslide"
    }
   },
   "source": [
    "A number of different spatial transforms are available in ITK.\n",
    "\n",
    "The simplest is the Identity Transform.  This transform simply returns input points unaltered."
   ]
  },
  {
   "cell_type": "code",
   "execution_count": null,
   "metadata": {
    "collapsed": false,
    "slideshow": {
     "slide_type": "fragment"
    }
   },
   "outputs": [],
   "source": [
    "dimension = 2\n",
    "\n",
    "print('*Identity Transform*')\n",
    "identity = sitk.Transform(dimension, sitk.sitkIdentity)\n",
    "print('Dimension: ' + str(identity.GetDimension()))\n",
    "\n",
    "# Points are always defined in physical space\n",
    "point = (1.0, 1.0)\n",
    "def transform_point(transform, point):\n",
    "    transformed_point = transform.TransformPoint(point)\n",
    "    print('Point ' + str(point) + ' transformed is ' + str(transformed_point))\n",
    "\n",
    "transform_point(identity, point)"
   ]
  },
  {
   "cell_type": "markdown",
   "metadata": {
    "slideshow": {
     "slide_type": "subslide"
    }
   },
   "source": [
    "For the TranslationTransform, the Parameters are the values of the translation Offset."
   ]
  },
  {
   "cell_type": "code",
   "execution_count": null,
   "metadata": {
    "collapsed": false,
    "slideshow": {
     "slide_type": "fragment"
    }
   },
   "outputs": [],
   "source": [
    "print('*Translation Transform*')\n",
    "translation = sitk.TranslationTransform(dimension)\n",
    "\n",
    "print('Parameters: ' + str(translation.GetParameters()))\n",
    "print('Offset:     ' + str(translation.GetOffset()))\n",
    "print('FixedParameters: ' + str(translation.GetFixedParameters()))\n",
    "transform_point(translation, point)\n",
    "\n",
    "print('')\n",
    "translation.SetParameters((3.1, 4.4))\n",
    "print('Parameters: ' + str(translation.GetParameters()))\n",
    "transform_point(translation, point)"
   ]
  },
  {
   "cell_type": "markdown",
   "metadata": {
    "slideshow": {
     "slide_type": "subslide"
    }
   },
   "source": [
    "The affine transform is capable of representing translations, rotations, shearing, and scaling."
   ]
  },
  {
   "cell_type": "code",
   "execution_count": null,
   "metadata": {
    "collapsed": false,
    "slideshow": {
     "slide_type": "fragment"
    }
   },
   "outputs": [],
   "source": [
    "print('*Affine Transform*')\n",
    "affine = sitk.AffineTransform(dimension)\n",
    "\n",
    "print('Parameters: ' + str(affine.GetParameters()))\n",
    "print('FixedParameters: ' + str(affine.GetFixedParameters()))\n",
    "transform_point(affine, point)\n",
    "\n",
    "print('')\n",
    "affine.SetTranslation((3.1, 4.4))\n",
    "print('Parameters: ' + str(affine.GetParameters()))\n",
    "transform_point(affine, point)"
   ]
  },
  {
   "cell_type": "markdown",
   "metadata": {
    "slideshow": {
     "slide_type": "subslide"
    }
   },
   "source": [
    "### Applying Transforms to Images"
   ]
  },
  {
   "cell_type": "markdown",
   "metadata": {
    "slideshow": {
     "slide_type": "subslide"
    }
   },
   "source": [
    "Create a function to display the images that is aware of image spacing."
   ]
  },
  {
   "cell_type": "code",
   "execution_count": null,
   "metadata": {
    "collapsed": false,
    "slideshow": {
     "slide_type": "subslide"
    }
   },
   "outputs": [],
   "source": [
    "def myshow(img, title=None, margin=0.05, dpi=80):\n",
    "    nda = sitk.GetArrayFromImage(img)\n",
    "    spacing = img.GetSpacing()\n",
    "        \n",
    "    ysize = nda.shape[0]\n",
    "    xsize = nda.shape[1]\n",
    "      \n",
    "    figsize = (1 + margin) * ysize / dpi, (1 + margin) * xsize / dpi\n",
    "\n",
    "    fig = plt.figure(title, figsize=figsize, dpi=dpi)\n",
    "    ax = fig.add_axes([margin, margin, 1 - 2*margin, 1 - 2*margin])\n",
    "    \n",
    "    extent = (0, xsize*spacing[1], 0, ysize*spacing[0])\n",
    "    \n",
    "    t = ax.imshow(nda,\n",
    "            extent=extent,\n",
    "            interpolation='hamming',\n",
    "            cmap='gray',\n",
    "            origin='lower')\n",
    "    \n",
    "    if(title):\n",
    "        plt.title(title)"
   ]
  },
  {
   "cell_type": "markdown",
   "metadata": {
    "slideshow": {
     "slide_type": "subslide"
    }
   },
   "source": [
    "Create a grid image."
   ]
  },
  {
   "cell_type": "code",
   "execution_count": null,
   "metadata": {
    "collapsed": false,
    "slideshow": {
     "slide_type": "fragment"
    }
   },
   "outputs": [],
   "source": [
    "grid = sitk.GridSource(outputPixelType=sitk.sitkUInt16,\n",
    "    size=(250, 250),\n",
    "    sigma=(0.5, 0.5),\n",
    "    gridSpacing=(5.0, 5.0),\n",
    "    gridOffset=(0.0, 0.0),\n",
    "    spacing=(0.2,0.2))\n",
    "myshow(grid, 'Grid Input')"
   ]
  },
  {
   "cell_type": "markdown",
   "metadata": {
    "slideshow": {
     "slide_type": "subslide"
    }
   },
   "source": [
    "To apply the transform, a resampling operation is required."
   ]
  },
  {
   "cell_type": "code",
   "execution_count": null,
   "metadata": {
    "collapsed": false,
    "slideshow": {
     "slide_type": "fragment"
    }
   },
   "outputs": [],
   "source": [
    "def resample(image, transform):\n",
    "    # Output image Origin, Spacing, Size, Direction are taken from the reference\n",
    "    # image in this call to Resample\n",
    "    reference_image = image\n",
    "    interpolator = sitk.sitkCosineWindowedSinc\n",
    "    default_value = 100.0\n",
    "    return sitk.Resample(image, reference_image, transform,\n",
    "                         interpolator, default_value)\n",
    "\n",
    "translation.SetOffset((3.1, 4.6))\n",
    "transform_point(translation, point)\n",
    "resampled = resample(grid, translation)\n",
    "myshow(resampled, 'Resampled Translation')"
   ]
  },
  {
   "cell_type": "markdown",
   "metadata": {
    "slideshow": {
     "slide_type": "subslide"
    }
   },
   "source": [
    "What happened?  The translation is positive in both directions.  Why does the output image move down and to the left?  It important to keep in mind that a transform in a resampling operation defines *the transform from the output space to the input space*."
   ]
  },
  {
   "cell_type": "code",
   "execution_count": null,
   "metadata": {
    "collapsed": false,
    "slideshow": {
     "slide_type": "fragment"
    }
   },
   "outputs": [],
   "source": [
    "translation.SetOffset(-1*np.array(translation.GetParameters()))\n",
    "transform_point(translation, point)\n",
    "resampled = resample(grid, translation)\n",
    "myshow(resampled, 'Inverse Resampled')"
   ]
  },
  {
   "cell_type": "markdown",
   "metadata": {
    "slideshow": {
     "slide_type": "subslide"
    }
   },
   "source": [
    "An affine (line preserving) transformation, can perform translation:"
   ]
  },
  {
   "cell_type": "code",
   "execution_count": null,
   "metadata": {
    "collapsed": false,
    "slideshow": {
     "slide_type": "fragment"
    }
   },
   "outputs": [],
   "source": [
    "def affine_translate(transform, x_translation=3.1, y_translation=4.6):\n",
    "    new_transform = sitk.AffineTransform(transform)\n",
    "    new_transform.SetTranslation((x_translation, y_translation))\n",
    "    resampled = resample(grid, new_transform)\n",
    "    myshow(resampled, 'Translated')\n",
    "    return new_transform\n",
    "    \n",
    "affine = sitk.AffineTransform(dimension)\n",
    "\n",
    "interact(affine_translate, transform=fixed(affine), x_translation=(-5.0, 5.0), y_translation=(-5.0, 5.0))"
   ]
  },
  {
   "cell_type": "markdown",
   "metadata": {
    "slideshow": {
     "slide_type": "subslide"
    }
   },
   "source": [
    "or scaling:"
   ]
  },
  {
   "cell_type": "code",
   "execution_count": null,
   "metadata": {
    "collapsed": false,
    "slideshow": {
     "slide_type": "fragment"
    }
   },
   "outputs": [],
   "source": [
    "def affine_scale(transform, x_scale=3.0, y_scale=0.7):\n",
    "    new_transform = sitk.AffineTransform(transform)\n",
    "    matrix = np.array(transform.GetMatrix()).reshape((dimension,dimension))\n",
    "    matrix[0,0] = x_scale\n",
    "    matrix[1,1] = y_scale\n",
    "    new_transform.SetMatrix(matrix.ravel())\n",
    "    resampled = resample(grid, new_transform)\n",
    "    myshow(resampled, 'Scaled')\n",
    "    print(matrix)\n",
    "    return new_transform\n",
    "\n",
    "affine = sitk.AffineTransform(dimension)\n",
    "\n",
    "interact(affine_scale, transform=fixed(affine), x_scale=(0.2, 5.0), y_scale=(0.2, 5.0))"
   ]
  },
  {
   "cell_type": "markdown",
   "metadata": {
    "slideshow": {
     "slide_type": "subslide"
    }
   },
   "source": [
    "or rotation:"
   ]
  },
  {
   "cell_type": "code",
   "execution_count": null,
   "metadata": {
    "collapsed": false,
    "slideshow": {
     "slide_type": "fragment"
    }
   },
   "outputs": [],
   "source": [
    "def affine_rotate(transform, degrees=15.0):\n",
    "    parameters = np.array(transform.GetParameters())\n",
    "    new_transform = sitk.AffineTransform(transform)\n",
    "    matrix = np.array(transform.GetMatrix()).reshape((dimension,dimension))\n",
    "    radians = -np.pi * degrees / 180.\n",
    "    rotation = np.array([[np.cos(radians), -np.sin(radians)],[np.sin(radians), np.cos(radians)]])\n",
    "    new_matrix = np.dot(rotation, matrix)\n",
    "    new_transform.SetMatrix(new_matrix.ravel())\n",
    "    resampled = resample(grid, new_transform)\n",
    "    print(new_matrix)\n",
    "    myshow(resampled, 'Rotated')\n",
    "    return new_transform\n",
    "    \n",
    "affine = sitk.AffineTransform(dimension)\n",
    "\n",
    "interact(affine_rotate, transform=fixed(affine), degrees=(-90.0, 90.0))"
   ]
  },
  {
   "cell_type": "markdown",
   "metadata": {
    "slideshow": {
     "slide_type": "subslide"
    }
   },
   "source": [
    "or shearing:"
   ]
  },
  {
   "cell_type": "code",
   "execution_count": null,
   "metadata": {
    "collapsed": false,
    "slideshow": {
     "slide_type": "fragment"
    }
   },
   "outputs": [],
   "source": [
    "def affine_shear(transform, x_shear=0.3, y_shear=0.1):\n",
    "    new_transform = sitk.AffineTransform(transform)\n",
    "    matrix = np.array(transform.GetMatrix()).reshape((dimension,dimension))\n",
    "    matrix[0,1] = -x_shear\n",
    "    matrix[1,0] = -y_shear\n",
    "    new_transform.SetMatrix(matrix.ravel())\n",
    "    resampled = resample(grid, new_transform)\n",
    "    myshow(resampled, 'Sheared')\n",
    "    print(matrix)\n",
    "    return new_transform\n",
    "\n",
    "affine = sitk.AffineTransform(dimension)\n",
    "\n",
    "interact(affine_shear, transform=fixed(affine), x_shear=(0.1, 2.0), y_shear=(0.1, 2.0))"
   ]
  },
  {
   "cell_type": "markdown",
   "metadata": {
    "slideshow": {
     "slide_type": "subslide"
    }
   },
   "source": [
    "## Composite Transform"
   ]
  },
  {
   "cell_type": "markdown",
   "metadata": {
    "slideshow": {
     "slide_type": "fragment"
    }
   },
   "source": [
    "It is possible to compose multiple transform together into a single transform object.  With a composite transform, multiple resampling operations are prevented, so interpolation errors are not accumulated.  For example, an affine transformation that consists of a translation and rotation,"
   ]
  },
  {
   "cell_type": "code",
   "execution_count": null,
   "metadata": {
    "collapsed": false,
    "slideshow": {
     "slide_type": "subslide"
    }
   },
   "outputs": [],
   "source": [
    "translate = (8.0, 16.0)\n",
    "rotate = 20.0\n",
    "\n",
    "affine = sitk.AffineTransform(dimension)\n",
    "affine = affine_translate(affine, translate[0], translate[1])\n",
    "affine = affine_rotate(affine, rotate)\n",
    "\n",
    "resampled = resample(grid, affine)\n",
    "myshow(resampled, 'Single Transform')"
   ]
  },
  {
   "cell_type": "markdown",
   "metadata": {
    "slideshow": {
     "slide_type": "subslide"
    }
   },
   "source": [
    "can also be represented with two Transform objects applied in sequence with a Composite Transform,"
   ]
  },
  {
   "cell_type": "code",
   "execution_count": null,
   "metadata": {
    "collapsed": false,
    "slideshow": {
     "slide_type": "subslide"
    }
   },
   "outputs": [],
   "source": [
    "translation = sitk.TranslationTransform(dimension)\n",
    "translation.SetOffset(-1*np.array(translate))\n",
    "composite = sitk.Transform(dimension, sitk.sitkComposite)\n",
    "composite.AddTransform(translation)\n",
    "affine = sitk.AffineTransform(dimension)\n",
    "affine = affine_rotate(affine, rotate)\n",
    "\n",
    "composite.AddTransform(translation)\n",
    "composite = sitk.Transform(dimension, sitk.sitkComposite)\n",
    "composite.AddTransform(affine)\n",
    "\n",
    "resampled = resample(grid, composite)\n",
    "myshow(resampled, 'Two Transforms')"
   ]
  },
  {
   "cell_type": "markdown",
   "metadata": {
    "slideshow": {
     "slide_type": "subslide"
    }
   },
   "source": [
    "*Beware*, tranforms are noncommutative -- order matters!"
   ]
  },
  {
   "cell_type": "code",
   "execution_count": null,
   "metadata": {
    "collapsed": false,
    "slideshow": {
     "slide_type": "fragment"
    }
   },
   "outputs": [],
   "source": [
    "composite = sitk.Transform(dimension, sitk.sitkComposite)\n",
    "composite.AddTransform(affine)\n",
    "composite.AddTransform(translation)\n",
    "\n",
    "resampled = resample(grid, composite)\n",
    "myshow(resampled, 'Composite transform in reverse order')"
   ]
  },
  {
   "cell_type": "markdown",
   "metadata": {
    "slideshow": {
     "slide_type": "slide"
    }
   },
   "source": [
    "## Exercises"
   ]
  },
  {
   "cell_type": "markdown",
   "metadata": {
    "slideshow": {
     "slide_type": "subslide"
    }
   },
   "source": [
    "### Exercise 1: Transform complexity\n",
    "\n",
    "Below is a list of transforms supported, ordered by their complexity. Choose three, and compare how many Parameters they have.\n",
    "\n",
    "\n",
    "<table width=\"100%\">\n",
    "<tr><td><a href=\"http://www.itk.org/Doxygen/html/classitk_1_1TranslationTransform.html\">TranslationTransform</a></td><td>2D or 3D, translation</td></tr>\n",
    "  <tr><td><a href=\"http://www.itk.org/Doxygen/html/classitk_1_1VersorTransform.html\">VersorTransform</a></td><td>3D, rotation represented by a versor</td></tr>\n",
    "  <tr><td><a href=\"http://www.itk.org/Doxygen/html/classitk_1_1VersorRigid3DTransform.html\">VersorRigid3DTransform</a></td><td>3D, rigid transformation with rotation represented by a versor</td></tr>\n",
    "  <tr><td><a href=\"http://www.itk.org/Doxygen/html/classitk_1_1Euler2DTransform.html\">Euler2DTransform</a></td><td>2D, rigid transformation with rotation represented by a Euler angle</td></tr>\n",
    "  <tr><td><a href=\"http://www.itk.org/Doxygen/html/classitk_1_1Euler3DTransform.html\">Euler3DTransform</a></td><td>3D, rigid transformation with rotation represented by Euler angles</td></tr>\n",
    "  <tr><td><a href=\"http://www.itk.org/Doxygen/html/classitk_1_1Similarity2DTransform.html\">Similarity2DTransform</a></td><td>2D, composition of isotropic scaling and rigid transformation with rotation represented by a Euler angle</td></tr>\n",
    "  <tr><td><a href=\"http://www.itk.org/Doxygen/html/classitk_1_1Similarity3DTransform.html\">Similarity3DTransform</a></td><td>3D, composition of isotropic scaling and rigid transformation with rotation represented by a versor</td></tr>\n",
    "  <tr><td><a href=\"http://www.itk.org/Doxygen/html/classitk_1_1ScaleTransform.html\">ScaleTransform</a></td><td>2D or 3D, anisotropic scaling</td></tr>\n",
    "  <tr><td><a href=\"http://www.itk.org/Doxygen/html/classitk_1_1ScaleVersor3DTransform.html\">ScaleVersor3DTransform</a></td><td>3D, rigid transformation and anisotropic scale is <bf>added</bf> to the rotation matrix part (not composed as one would expect)</td></tr>\n",
    "  <tr><td><a href=\"http://www.itk.org/Doxygen/html/classitk_1_1ScaleSkewVersor3DTransform.html\">ScaleSkewVersor3DTransform</a></td><td>3D, rigid transformation with anisotropic scale and skew matrices <bf>added</bf> to the rotation matrix part (not composed as one would expect)</td></tr>\n",
    "  <tr><td><a href=\"http://www.itk.org/Doxygen/html/classitk_1_1AffineTransform.html\">AffineTransform</a></td><td>2D or 3D, affine transformation.</td></tr>\n",
    "  <tr><td><a href=\"http://www.itk.org/Doxygen/html/classitk_1_1BSplineTransform.html\">BSplineTransform</a></td><td>2D or 3D, deformable transformation represented by a sparse regular grid of control points. </td></tr>\n",
    "  <tr><td><a href=\"http://www.itk.org/Doxygen/html/classitk_1_1DisplacementFieldTransform.html\">DisplacementFieldTransform</a></td><td>2D or 3D, deformable transformation represented as a dense regular grid of vectors.</td></tr>\n",
    "  <tr><td><a href=\"http://www.itk.org/SimpleITKDoxygen/html/classitk_1_1simple_1_1Transform.html\">Transform</a></td>\n",
    "  <td>A generic transformation. Can represent any of the SimpleITK transformations, and a <b>composite transformation</b> (stack of transformations concatenated via composition, last added, first applied). </td></tr>\n",
    "  </table>"
   ]
  },
  {
   "cell_type": "markdown",
   "metadata": {
    "collapsed": true,
    "slideshow": {
     "slide_type": "subslide"
    }
   },
   "source": [
    "### Exercise 2: Image addition and physical space\n",
    "\n",
    "ITK does not allow pixel-based addition of images when they do not occupy the same location in physical space.\n",
    "\n",
    "Uncomment the addition operation below, and observe the error that occurs.\n",
    "\n",
    "Comment the `SetOrigin`, `SetSpacing`, and `SetDirection` lines.  Does the error go away? Why? Can any of these attributes be modified and addition still occur?"
   ]
  },
  {
   "cell_type": "code",
   "execution_count": null,
   "metadata": {
    "collapsed": false
   },
   "outputs": [],
   "source": [
    "image_a = sitk.Image(24, 24, sitk.sitkUInt8)\n",
    "image_a[0,0] = 2\n",
    "\n",
    "image_b = sitk.Image(image_a.GetSize(), sitk.sitkUInt8)\n",
    "image_b.SetDirection([0, 1, 0.5, 0.5])\n",
    "image_b.SetSpacing([0.5, 0.8])\n",
    "image_b.SetOrigin([10.0, 20.0])\n",
    "image_b[0,0] = 3\n",
    "\n",
    "#image_c = sitk.Add(image_a, image_b)\n",
    "#print(image_c[0,0])"
   ]
  }
 ],
 "metadata": {
  "kernelspec": {
   "display_name": "Python 3",
   "language": "python",
   "name": "python3"
  },
  "language_info": {
   "codemirror_mode": {
    "name": "ipython",
    "version": 3
   },
   "file_extension": ".py",
   "mimetype": "text/x-python",
   "name": "python",
   "nbconvert_exporter": "python",
   "pygments_lexer": "ipython3",
   "version": "3.5.2"
  },
  "widgets": {
   "state": {
    "04e19751fc9144148744a9c71fe0a8a4": {
     "views": [
      {
       "cell_index": 36
      }
     ]
    },
    "a43d5d1c146a4d4c873499239c9c0a3e": {
     "views": [
      {
       "cell_index": 32
      }
     ]
    },
    "bc00a192b4054e0680fb7a6a3288af7c": {
     "views": [
      {
       "cell_index": 34
      }
     ]
    },
    "e7b1849addbc41638747c14e324a72a0": {
     "views": [
      {
       "cell_index": 30
      }
     ]
    }
   },
   "version": "1.2.0"
  }
 },
 "nbformat": 4,
 "nbformat_minor": 0
}
