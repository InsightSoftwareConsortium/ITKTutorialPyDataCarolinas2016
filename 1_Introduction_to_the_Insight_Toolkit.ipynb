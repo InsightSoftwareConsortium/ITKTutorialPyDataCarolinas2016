{
 "cells": [
  {
   "cell_type": "markdown",
   "metadata": {
    "slideshow": {
     "slide_type": "slide"
    }
   },
   "source": [
    "# Introduction to the Insight Toolkit (ITK)"
   ]
  },
  {
   "cell_type": "markdown",
   "metadata": {
    "slideshow": {
     "slide_type": "slide"
    }
   },
   "source": [
    "## Getting to Know Your Tutor\n",
    "\n",
    "### Matt McCormick (thewtex)\n",
    "\n",
    "[![GitHub - https://github.com/thewtex](data/github-logo.png)](https://github.com/thewtex)\n",
    "#### https://github.com/thewtex \n",
    "\n",
    "[![Twitter - https://twitter.com/thewtex](data/twitter-logo.png)](https://twitter.com/thewtex)\n",
    "#### https://twitter.com/thewtex"
   ]
  },
  {
   "cell_type": "markdown",
   "metadata": {
    "slideshow": {
     "slide_type": "subslide"
    }
   },
   "source": [
    "### Native Midwesterner\n",
    "\n",
    "![Ice cream](data/IceCream.jpg)"
   ]
  },
  {
   "cell_type": "markdown",
   "metadata": {
    "slideshow": {
     "slide_type": "subslide"
    }
   },
   "source": [
    "### B.S. Marquette University, 2005, Biomechanical Engineering\n",
    "\n",
    "![Marquette University](data/mu-logo.png)\n",
    "\n",
    "![Biomechanics](data/biomechanics.jpg)\n",
    "Image source: https://sites.google.com/site/biomechanicalengineering/"
   ]
  },
  {
   "cell_type": "markdown",
   "metadata": {
    "slideshow": {
     "slide_type": "subslide"
    }
   },
   "source": [
    "### University of Wisconsin-Madison Biomedical Engineering, PhD, 2011, Diagnostic Ultrasound Imaging\n",
    "\n",
    "![Carotid plaque](data/carotid-plaque.gif)\n",
    "\n",
    "Carotid plaque motion, processed with ITK-based code, identifies which plaques are likely to rupture, emit emboli, and cause a stroke. \n",
    "\n"
   ]
  },
  {
   "cell_type": "markdown",
   "metadata": {
    "slideshow": {
     "slide_type": "subslide"
    }
   },
   "source": [
    "### While at UW-Madison, Discovered the Scientific Python Community\n",
    "\n",
    "#### The Hacker Within (THW) -> (Software Carpentry)\n",
    "\n",
    "![THW Bootcamps](data/thw-bootcamps.png)\n",
    "\n",
    "The Hacker Within (THW) -> (Software Carpentry)\n"
   ]
  },
  {
   "cell_type": "markdown",
   "metadata": {
    "slideshow": {
     "slide_type": "subslide"
    }
   },
   "source": [
    "### PyCon, SciPy, Triangle Python\n",
    "\n",
    "![THW Bootcamps](data/pycon-2010.jpg)\n",
    "\n",
    "PyCon and SciPy Conference\n",
    "\n",
    "[![Triangle Python](data/tripython-logo.png)](http://trizpug.org/)\n",
    "\n",
    "TriPython"
   ]
  },
  {
   "cell_type": "markdown",
   "metadata": {
    "slideshow": {
     "slide_type": "subslide"
    }
   },
   "source": [
    "### Currently at Kitware, Inc\n",
    "\n",
    "\n",
    "![Kitware ITK](data/KitwareITK.jpg)\n",
    "\n",
    "![Kitware overview](data/KitwareOverview.jpg)\n",
    "\n",
    "- Collaborative, Open Source, Scientific Software Development\n",
    "- Carrboro, NC, near University of North Carolina-Chapel Hill, in the Research Triangle\n",
    "- **Hiring**"
   ]
  },
  {
   "cell_type": "markdown",
   "metadata": {
    "slideshow": {
     "slide_type": "subslide"
    }
   },
   "source": [
    "### Role: ITK Community Development Catalyst\n",
    "\n",
    "[![ITK Code Reviews](data/itk-code-reviews.png)](http://thewtex.github.io/PropertiesOfCodeReviewSocialStructures/figures/itk_graph.html)\n",
    "\n",
    "ITK developer relationships [taken from the code review system](http://www.ncbi.nlm.nih.gov/pubmed/24600387), also examined in an [OpenSource.com article on robustness and information transmission properties of code review social structures](https://opensource.com/life/14/5/best-code-review-open-source-projects)."
   ]
  },
  {
   "cell_type": "markdown",
   "metadata": {
    "slideshow": {
     "slide_type": "slide"
    }
   },
   "source": [
    "## History of ITK"
   ]
  },
  {
   "cell_type": "markdown",
   "metadata": {
    "slideshow": {
     "slide_type": "subslide"
    }
   },
   "source": [
    "### Insight into Images\n",
    "\n",
    "![Visible Human Head Rendering](data/VisibleHumanHeadRender.png)\n",
    "\n",
    "http://itk.org"
   ]
  },
  {
   "cell_type": "markdown",
   "metadata": {
    "slideshow": {
     "slide_type": "subslide"
    }
   },
   "source": [
    "### History\n",
    "\n",
    "In 1999, the US National Institute of Health’s (NIH) National Library of Medicine (NLM) started a project to support the Visible Human Project.\n",
    "\n",
    "![Visible Human Logo](data/VisibleHumanLogo.png)\n",
    "\n",
    "![Visible Human Slice](data/VisibleHumanSlice.png)\n"
   ]
  },
  {
   "cell_type": "markdown",
   "metadata": {
    "slideshow": {
     "slide_type": "subslide"
    }
   },
   "source": [
    "### Goals\n",
    "\n",
    "* Collect best-of-the-best image analysis algorithms for reproducible science.\n",
    "* Provide a software resource for teaching medical image analysis algorithms.\n",
    "* Establish a foundation for future research.\n",
    "* Support commercial applications.\n",
    "* Create conventions for future work.\n",
    "* Grow a self-sustaining community of software users and developers."
   ]
  },
  {
   "cell_type": "markdown",
   "metadata": {
    "slideshow": {
     "slide_type": "subslide"
    }
   },
   "source": [
    "### SimpleITK\n",
    "\n",
    "![SimpleITK](data/SimpleITKLogo.jpg)\n",
    "\n",
    "* SimpleITK is a simplified layer built on top of ITK, intended to facilitate its use in rapid prototyping, education, interpreted languages.\n",
    "* Released 0.3.0 in conjunction with the ITKv4 effort, 2011.\n",
    "* Provides a simplified, easy-to-use, procedural interface without templates.\n",
    "* Python, R, C#, Java bindings."
   ]
  },
  {
   "cell_type": "markdown",
   "metadata": {
    "slideshow": {
     "slide_type": "subslide"
    }
   },
   "source": [
    "### Continued Development\n",
    "\n",
    "* Development has progressed since 1999\n",
    "* Contributions from over 267 developers\n",
    "* Over 1.6 million lines of code\n",
    "* Downloaded over 500,000 times\n",
    "\n",
    "![ITK contributors](data/itk-contributors.png)\n",
    "\n",
    "ITK contributors locations for the 4.8 and 4.9 releases."
   ]
  },
  {
   "cell_type": "markdown",
   "metadata": {
    "slideshow": {
     "slide_type": "slide"
    }
   },
   "source": [
    "## Features"
   ]
  },
  {
   "cell_type": "markdown",
   "metadata": {
    "slideshow": {
     "slide_type": "subslide"
    }
   },
   "source": [
    "### N-Dimensional Image Filtering\n",
    "\n",
    "![Filtering](data/Filtering.png)"
   ]
  },
  {
   "cell_type": "markdown",
   "metadata": {
    "slideshow": {
     "slide_type": "subslide"
    }
   },
   "source": [
    "### Filtering Algorithms Classes\n",
    "\n",
    "* Fast marching methods\n",
    "* Convolution\n",
    "* Image gradient\n",
    "* Denoising\n",
    "* Thresholding\n",
    "* Mathematical morphology\n",
    "* Smoothing\n",
    "* Image features\n",
    "* Image statistics\n",
    "* Bias correction\n",
    "* Image grid operations\n",
    "* ...."
   ]
  },
  {
   "cell_type": "markdown",
   "metadata": {
    "slideshow": {
     "slide_type": "subslide"
    }
   },
   "source": [
    "### Segmentation\n",
    "\n",
    "\"Image segmentation is the process of partitioning a digital image into multiple segments, i.e. sets of pixels. The goal of segmentation is to simplify and/or change the representation of an image into something that is more meaningful and easier to analyze.\"\n",
    "\n",
    "Source: [Wikipedia](https://en.wikipedia.org/wiki/Image_segmentation)"
   ]
  },
  {
   "cell_type": "markdown",
   "metadata": {
    "slideshow": {
     "slide_type": "subslide"
    }
   },
   "source": [
    "### Segmentation\n",
    "\n",
    "![Segmentation](data/SegmentationLevelSet.png)"
   ]
  },
  {
   "cell_type": "markdown",
   "metadata": {
    "slideshow": {
     "slide_type": "subslide"
    }
   },
   "source": [
    "### Segmentation\n",
    "\n",
    "![Segmentation](data/Segmentation1.png)"
   ]
  },
  {
   "cell_type": "markdown",
   "metadata": {
    "slideshow": {
     "slide_type": "subslide"
    }
   },
   "source": [
    "### Segmentation\n",
    "\n",
    "![Segmentation](data/Segmentation2.png)"
   ]
  },
  {
   "cell_type": "markdown",
   "metadata": {
    "slideshow": {
     "slide_type": "subslide"
    }
   },
   "source": [
    "### Segmentation\n",
    "\n",
    "![Segmentation](data/Segmentation3.png)"
   ]
  },
  {
   "cell_type": "markdown",
   "metadata": {
    "slideshow": {
     "slide_type": "subslide"
    }
   },
   "source": [
    "### Segmentation\n",
    "\n",
    "![Segmentation](data/Segmentation4.png)"
   ]
  },
  {
   "cell_type": "markdown",
   "metadata": {
    "slideshow": {
     "slide_type": "subslide"
    }
   },
   "source": [
    "### Segmentation\n",
    "\n",
    "![Segmentation](data/Segmentation5.png)"
   ]
  },
  {
   "cell_type": "markdown",
   "metadata": {
    "slideshow": {
     "slide_type": "subslide"
    }
   },
   "source": [
    "### Registration\n",
    "\n",
    "\"Image registration is the process of transforming different sets of data into one coordinate system. [...] Registration is necessary in order to be able to compare or integrate the data obtained from these different measurements.\"\n",
    "\n",
    "Source: [Wikipedia](https://en.wikipedia.org/wiki/Image_registration)"
   ]
  },
  {
   "cell_type": "markdown",
   "metadata": {
    "slideshow": {
     "slide_type": "subslide"
    }
   },
   "source": [
    "### Registration\n",
    "\n",
    "![Registration](data/Registration.png)"
   ]
  },
  {
   "cell_type": "markdown",
   "metadata": {
    "slideshow": {
     "slide_type": "subslide"
    }
   },
   "source": [
    "### Other Data Structures\n",
    "\n",
    "* Mesh's\n",
    "* Transforms's\n",
    "* SpatialObject's\n",
    "* Path's\n",
    "* LabelMap's\n",
    "\n",
    "![Mesh](data/Mesh.png)\n",
    "\n",
    "![Transform](data/Transformation.png)"
   ]
  },
  {
   "cell_type": "markdown",
   "metadata": {
    "slideshow": {
     "slide_type": "subslide"
    }
   },
   "source": [
    "#### ITK is **Not**\n",
    "\n",
    "* A graphical user interface (GUI)\n",
    "* A visualization library"
   ]
  },
  {
   "cell_type": "markdown",
   "metadata": {
    "slideshow": {
     "slide_type": "subslide"
    }
   },
   "source": [
    "### ITK Resources\n",
    "\n",
    "* ITK Software Guide Books (hard copy, PDF, HTML): https://itk.org/ITKSoftwareGuide/html/\n",
    "\n",
    "* `Examples/` directory in the ITK repository\n",
    "\n",
    "* Sphinx Examples: http://www.itk.org/ITKExamples\n",
    "\n",
    "* Wiki Examples: http://www.itk.org/Wiki/ITK/Examples\n",
    "\n",
    "* Doxygen: http://www.itk.org/Doxygen/html/index.html\n",
    "\n",
    "* Mailing Lists: https://itk.org/ITK/help/mailing.html\n",
    "\n",
    "* Wiki: http://www.itk.org/Wiki/ITK"
   ]
  },
  {
   "cell_type": "markdown",
   "metadata": {
    "slideshow": {
     "slide_type": "subslide"
    }
   },
   "source": [
    "### Enjoy ITK!"
   ]
  }
 ],
 "metadata": {
  "kernelspec": {
   "display_name": "Python 3",
   "language": "python",
   "name": "python3"
  },
  "language_info": {
   "codemirror_mode": {
    "name": "ipython",
    "version": 3
   },
   "file_extension": ".py",
   "mimetype": "text/x-python",
   "name": "python",
   "nbconvert_exporter": "python",
   "pygments_lexer": "ipython3",
   "version": "3.5.2"
  }
 },
 "nbformat": 4,
 "nbformat_minor": 0
}
