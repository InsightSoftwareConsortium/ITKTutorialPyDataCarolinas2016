{
 "cells": [
  {
   "cell_type": "markdown",
   "metadata": {
    "slideshow": {
     "slide_type": "slide"
    }
   },
   "source": [
    "# ITK in Biomedical Research and Commercial Applications\n",
    "\n",
    "[![PyData Carolinas 2016](data/pydata-logo-carolinas-2016.png)](http://pydata.org/carolinas2016/)\n",
    "\n",
    "### PyData Carolinas 2016\n",
    "\n",
    "### Matt McCormick, PhD, Kitware, Inc\n"
   ]
  },
  {
   "cell_type": "markdown",
   "metadata": {
    "slideshow": {
     "slide_type": "slide"
    }
   },
   "source": [
    "## Abstract\n",
    "\n",
    "[![ITK](data/itk-logo.png)](https://www.itk.org/)\n",
    "\n",
    "\n",
    "The [Insight Segmentation and Registration Toolkit (ITK) (www.itk.org)](\n",
    "http://www.itk.org) has become a standard in academia and industry for\n",
    "medical image analysis. In recent years, the ITK community has\n",
    "focused on providing programming interfaces to ITK from Python and JavaScript\n",
    "and making ITK available via leading applications such as Slicer and ImageJ.\n",
    "In this course we present best practices for taking advantage of ITK in your\n",
    "imaging research and commercial products. We demonstrate how script writing\n",
    "and can be used to access the algorithms in ITK and the\n",
    "multitude of ITK extensions that are freely available on the web."
   ]
  },
  {
   "cell_type": "markdown",
   "metadata": {
    "slideshow": {
     "slide_type": "slide"
    }
   },
   "source": [
    "## Tutorials\n",
    "\n",
    "1. [Introduction to the Insight Toolkit (ITK)](1_Introduction_to_the_Insight_Toolkit.ipynb)\n",
    "2. [Image Filtering](2_Image_Filtering.ipynb)\n",
    "3. [Image Registration](3_Image_Registration.ipynb)\n",
    "4. [Open Source, Research, and Commercialization](4_Open_Source_Research_and_Commercialization.ipynb)"
   ]
  }
 ],
 "metadata": {
  "celltoolbar": "Slideshow",
  "kernelspec": {
   "display_name": "Python 3",
   "language": "python",
   "name": "python3"
  },
  "language_info": {
   "codemirror_mode": {
    "name": "ipython",
    "version": 3
   },
   "file_extension": ".py",
   "mimetype": "text/x-python",
   "name": "python",
   "nbconvert_exporter": "python",
   "pygments_lexer": "ipython3",
   "version": "3.5.2"
  }
 },
 "nbformat": 4,
 "nbformat_minor": 0
}
